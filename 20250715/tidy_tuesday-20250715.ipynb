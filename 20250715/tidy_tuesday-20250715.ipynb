{
 "cells": [
  {
   "cell_type": "markdown",
   "id": "f28ad5da",
   "metadata": {},
   "source": [
    "# Tidy Tuesday: British Library Funding\n",
    "**July 15, 2025**\n",
    "\n",
    "Todays' goal is to remake the plots and grpahs as seen in this\n",
    "[article](https://blog.dshr.org/2017/08/preservation-is-not-technical-problem.html) and [spreadsheet](https://docs.google.com/spreadsheets/d/1uxjiuWYZrALF2mthmiYbUPieu1dEdEwv9GB8dEAizso/edit?gid=0#gid=0)."
   ]
  },
  {
   "cell_type": "code",
   "execution_count": 2,
   "id": "f049ec66",
   "metadata": {},
   "outputs": [],
   "source": [
    "# Import libraries needed\n",
    "import numpy as np\n",
    "import pandas as pd\n",
    "import matplotlib.pyplot as plt"
   ]
  },
  {
   "cell_type": "code",
   "execution_count": 3,
   "id": "f1ef1c99",
   "metadata": {},
   "outputs": [],
   "source": [
    "# Import the csv\n",
    "data = pd.read_csv('bl_funding.csv')"
   ]
  },
  {
   "cell_type": "code",
   "execution_count": 4,
   "id": "24d82921",
   "metadata": {},
   "outputs": [
    {
     "data": {
      "text/html": [
       "<div>\n",
       "<style scoped>\n",
       "    .dataframe tbody tr th:only-of-type {\n",
       "        vertical-align: middle;\n",
       "    }\n",
       "\n",
       "    .dataframe tbody tr th {\n",
       "        vertical-align: top;\n",
       "    }\n",
       "\n",
       "    .dataframe thead th {\n",
       "        text-align: right;\n",
       "    }\n",
       "</style>\n",
       "<table border=\"1\" class=\"dataframe\">\n",
       "  <thead>\n",
       "    <tr style=\"text-align: right;\">\n",
       "      <th></th>\n",
       "      <th>year</th>\n",
       "      <th>nominal_gbp_millions</th>\n",
       "      <th>gia_gbp_millions</th>\n",
       "      <th>voluntary_gbp_millions</th>\n",
       "      <th>investment_gbp_millions</th>\n",
       "      <th>services_gbp_millions</th>\n",
       "      <th>other_gbp_millions</th>\n",
       "      <th>year_2000_gbp_millions</th>\n",
       "      <th>inflation_adjustment</th>\n",
       "      <th>total_y2000_gbp_millions</th>\n",
       "      <th>percentage_of_y2000_income</th>\n",
       "      <th>gia_y2000_gbp_millions</th>\n",
       "      <th>voluntary_y2000_gbp_millions</th>\n",
       "      <th>investment_y2000_gbp_millions</th>\n",
       "      <th>services_y2000_gbp_millions</th>\n",
       "      <th>other_y2000_gbp_millions</th>\n",
       "      <th>gia_as_percent_of_peak_gia</th>\n",
       "    </tr>\n",
       "  </thead>\n",
       "  <tbody>\n",
       "    <tr>\n",
       "      <th>0</th>\n",
       "      <td>2023</td>\n",
       "      <td>151.8</td>\n",
       "      <td>127.800</td>\n",
       "      <td>8.200</td>\n",
       "      <td>3.000</td>\n",
       "      <td>12.800</td>\n",
       "      <td>0.000</td>\n",
       "      <td>NaN</td>\n",
       "      <td>1818796.76</td>\n",
       "      <td>83.461772</td>\n",
       "      <td>0.757366</td>\n",
       "      <td>70.266235</td>\n",
       "      <td>4.508475</td>\n",
       "      <td>1.649442</td>\n",
       "      <td>7.037620</td>\n",
       "      <td>0.000000</td>\n",
       "      <td>0.743019</td>\n",
       "    </tr>\n",
       "    <tr>\n",
       "      <th>1</th>\n",
       "      <td>2022</td>\n",
       "      <td>147.6</td>\n",
       "      <td>116.500</td>\n",
       "      <td>14.900</td>\n",
       "      <td>0.800</td>\n",
       "      <td>15.600</td>\n",
       "      <td>0.000</td>\n",
       "      <td>NaN</td>\n",
       "      <td>1674338.62</td>\n",
       "      <td>88.154211</td>\n",
       "      <td>0.799947</td>\n",
       "      <td>69.579713</td>\n",
       "      <td>8.899036</td>\n",
       "      <td>0.477801</td>\n",
       "      <td>9.317112</td>\n",
       "      <td>0.000000</td>\n",
       "      <td>0.735759</td>\n",
       "    </tr>\n",
       "    <tr>\n",
       "      <th>2</th>\n",
       "      <td>2021</td>\n",
       "      <td>141.4</td>\n",
       "      <td>110.412</td>\n",
       "      <td>20.086</td>\n",
       "      <td>0.080</td>\n",
       "      <td>9.753</td>\n",
       "      <td>1.042</td>\n",
       "      <td>NaN</td>\n",
       "      <td>1534702.63</td>\n",
       "      <td>92.135113</td>\n",
       "      <td>0.836072</td>\n",
       "      <td>71.943579</td>\n",
       "      <td>13.087877</td>\n",
       "      <td>0.052127</td>\n",
       "      <td>6.354977</td>\n",
       "      <td>0.678959</td>\n",
       "      <td>0.760756</td>\n",
       "    </tr>\n",
       "    <tr>\n",
       "      <th>3</th>\n",
       "      <td>2020</td>\n",
       "      <td>125.9</td>\n",
       "      <td>108.226</td>\n",
       "      <td>9.524</td>\n",
       "      <td>0.196</td>\n",
       "      <td>7.584</td>\n",
       "      <td>0.383</td>\n",
       "      <td>NaN</td>\n",
       "      <td>1495983.26</td>\n",
       "      <td>84.158696</td>\n",
       "      <td>0.763691</td>\n",
       "      <td>72.344392</td>\n",
       "      <td>6.366381</td>\n",
       "      <td>0.131018</td>\n",
       "      <td>5.069575</td>\n",
       "      <td>0.256019</td>\n",
       "      <td>0.764994</td>\n",
       "    </tr>\n",
       "    <tr>\n",
       "      <th>4</th>\n",
       "      <td>2019</td>\n",
       "      <td>121.1</td>\n",
       "      <td>96.899</td>\n",
       "      <td>8.626</td>\n",
       "      <td>0.426</td>\n",
       "      <td>13.249</td>\n",
       "      <td>1.925</td>\n",
       "      <td>NaN</td>\n",
       "      <td>1483364.96</td>\n",
       "      <td>81.638709</td>\n",
       "      <td>0.740823</td>\n",
       "      <td>65.323776</td>\n",
       "      <td>5.815157</td>\n",
       "      <td>0.287185</td>\n",
       "      <td>8.931720</td>\n",
       "      <td>1.297725</td>\n",
       "      <td>0.690756</td>\n",
       "    </tr>\n",
       "  </tbody>\n",
       "</table>\n",
       "</div>"
      ],
      "text/plain": [
       "   year  nominal_gbp_millions  gia_gbp_millions  voluntary_gbp_millions  \\\n",
       "0  2023                 151.8           127.800                   8.200   \n",
       "1  2022                 147.6           116.500                  14.900   \n",
       "2  2021                 141.4           110.412                  20.086   \n",
       "3  2020                 125.9           108.226                   9.524   \n",
       "4  2019                 121.1            96.899                   8.626   \n",
       "\n",
       "   investment_gbp_millions  services_gbp_millions  other_gbp_millions  \\\n",
       "0                    3.000                 12.800               0.000   \n",
       "1                    0.800                 15.600               0.000   \n",
       "2                    0.080                  9.753               1.042   \n",
       "3                    0.196                  7.584               0.383   \n",
       "4                    0.426                 13.249               1.925   \n",
       "\n",
       "   year_2000_gbp_millions  inflation_adjustment  total_y2000_gbp_millions  \\\n",
       "0                     NaN            1818796.76                 83.461772   \n",
       "1                     NaN            1674338.62                 88.154211   \n",
       "2                     NaN            1534702.63                 92.135113   \n",
       "3                     NaN            1495983.26                 84.158696   \n",
       "4                     NaN            1483364.96                 81.638709   \n",
       "\n",
       "   percentage_of_y2000_income  gia_y2000_gbp_millions  \\\n",
       "0                    0.757366               70.266235   \n",
       "1                    0.799947               69.579713   \n",
       "2                    0.836072               71.943579   \n",
       "3                    0.763691               72.344392   \n",
       "4                    0.740823               65.323776   \n",
       "\n",
       "   voluntary_y2000_gbp_millions  investment_y2000_gbp_millions  \\\n",
       "0                      4.508475                       1.649442   \n",
       "1                      8.899036                       0.477801   \n",
       "2                     13.087877                       0.052127   \n",
       "3                      6.366381                       0.131018   \n",
       "4                      5.815157                       0.287185   \n",
       "\n",
       "   services_y2000_gbp_millions  other_y2000_gbp_millions  \\\n",
       "0                     7.037620                  0.000000   \n",
       "1                     9.317112                  0.000000   \n",
       "2                     6.354977                  0.678959   \n",
       "3                     5.069575                  0.256019   \n",
       "4                     8.931720                  1.297725   \n",
       "\n",
       "   gia_as_percent_of_peak_gia  \n",
       "0                    0.743019  \n",
       "1                    0.735759  \n",
       "2                    0.760756  \n",
       "3                    0.764994  \n",
       "4                    0.690756  "
      ]
     },
     "execution_count": 4,
     "metadata": {},
     "output_type": "execute_result"
    }
   ],
   "source": [
    "data.head()"
   ]
  },
  {
   "cell_type": "markdown",
   "id": "60886614",
   "metadata": {},
   "source": [
    "Looks like everything is a numerical value. Quickly make sure the values are stored as numericals as well:"
   ]
  },
  {
   "cell_type": "code",
   "execution_count": 5,
   "id": "8c7b95f0",
   "metadata": {},
   "outputs": [
    {
     "data": {
      "text/plain": [
       "year                               int64\n",
       "nominal_gbp_millions             float64\n",
       "gia_gbp_millions                 float64\n",
       "voluntary_gbp_millions           float64\n",
       "investment_gbp_millions          float64\n",
       "services_gbp_millions            float64\n",
       "other_gbp_millions               float64\n",
       "year_2000_gbp_millions           float64\n",
       "inflation_adjustment             float64\n",
       "total_y2000_gbp_millions         float64\n",
       "percentage_of_y2000_income       float64\n",
       "gia_y2000_gbp_millions           float64\n",
       "voluntary_y2000_gbp_millions     float64\n",
       "investment_y2000_gbp_millions    float64\n",
       "services_y2000_gbp_millions      float64\n",
       "other_y2000_gbp_millions         float64\n",
       "gia_as_percent_of_peak_gia       float64\n",
       "dtype: object"
      ]
     },
     "execution_count": 5,
     "metadata": {},
     "output_type": "execute_result"
    }
   ],
   "source": [
    "data.dtypes"
   ]
  },
  {
   "cell_type": "markdown",
   "id": "b643ae1c",
   "metadata": {},
   "source": [
    "Cool. Now onto the visualizations."
   ]
  },
  {
   "cell_type": "markdown",
   "id": "cbf844fb",
   "metadata": {},
   "source": [
    "## Inlfation-adjusted plot from the article"
   ]
  },
  {
   "cell_type": "code",
   "execution_count": 16,
   "id": "52c5f929",
   "metadata": {},
   "outputs": [],
   "source": [
    "even_years = []\n",
    "\n",
    "for year in data.year:\n",
    "    if year%2 == 0:\n",
    "        even_years.append(year)"
   ]
  },
  {
   "cell_type": "code",
   "execution_count": 21,
   "id": "655cac3b",
   "metadata": {},
   "outputs": [
    {
     "data": {
      "text/plain": [
       "Text(0, 0.5, 'GBP (millions of y2000)')"
      ]
     },
     "execution_count": 21,
     "metadata": {},
     "output_type": "execute_result"
    },
    {
     "data": {
      "image/png": "[encoded data removed]",
      "text/plain": [
       "<Figure size 800x600 with 1 Axes>"
      ]
     },
     "metadata": {},
     "output_type": "display_data"
    }
   ],
   "source": [
    "fig, ax = plt.subplots(figsize=(8,6))\n",
    "\n",
    "ax.bar(data.year, data.nominal_gbp_millions, color='red', label='BL real income', width=0.5)\n",
    "ax.set_xticks(ticks=even_years)\n",
    "ax.legend()\n",
    "ax.set_xlabel('Year')\n",
    "ax.set_ylabel('GBP (millions of y2000)')"
   ]
  },
  {
   "cell_type": "markdown",
   "id": "f7aa8df1",
   "metadata": {},
   "source": [
    "## Plots from the Google Sheets link ##"
   ]
  },
  {
   "cell_type": "code",
   "execution_count": null,
   "id": "5a9b9360",
   "metadata": {},
   "outputs": [],
   "source": []
  },
  {
   "cell_type": "code",
   "execution_count": null,
   "id": "d117c40e",
   "metadata": {},
   "outputs": [],
   "source": []
  },
  {
   "cell_type": "code",
   "execution_count": null,
   "id": "e379a57c",
   "metadata": {},
   "outputs": [],
   "source": []
  },
  {
   "cell_type": "code",
   "execution_count": null,
   "id": "69ba2a27",
   "metadata": {},
   "outputs": [],
   "source": []
  },
  {
   "cell_type": "code",
   "execution_count": null,
   "id": "6eb689fe",
   "metadata": {},
   "outputs": [],
   "source": []
  },
  {
   "cell_type": "code",
   "execution_count": null,
   "id": "ea11e737",
   "metadata": {},
   "outputs": [],
   "source": []
  },
  {
   "cell_type": "code",
   "execution_count": null,
   "id": "4b4d2e5d",
   "metadata": {},
   "outputs": [],
   "source": []
  },
  {
   "cell_type": "code",
   "execution_count": null,
   "id": "191812c2",
   "metadata": {},
   "outputs": [],
   "source": []
  },
  {
   "cell_type": "code",
   "execution_count": null,
   "id": "c5ba557c",
   "metadata": {},
   "outputs": [],
   "source": []
  },
  {
   "cell_type": "code",
   "execution_count": null,
   "id": "42fdf8b4",
   "metadata": {},
   "outputs": [],
   "source": []
  },
  {
   "cell_type": "code",
   "execution_count": null,
   "id": "d2f46948",
   "metadata": {},
   "outputs": [],
   "source": []
  }
 ],
 "metadata": {
  "kernelspec": {
   "display_name": "Python 3 (ipykernel)",
   "language": "python",
   "name": "python3"
  },
  "language_info": {
   "codemirror_mode": {
    "name": "ipython",
    "version": 3
   },
   "file_extension": ".py",
   "mimetype": "text/x-python",
   "name": "python",
   "nbconvert_exporter": "python",
   "pygments_lexer": "ipython3",
   "version": "3.8.18"
  }
 },
 "nbformat": 4,
 "nbformat_minor": 5
}
