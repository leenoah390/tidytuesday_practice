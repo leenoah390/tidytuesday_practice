{
 "cells": [
  {
   "cell_type": "code",
   "execution_count": 174,
   "id": "eadc8fc9",
   "metadata": {},
   "outputs": [],
   "source": [
    "import numpy as np\n",
    "import pandas as pd\n",
    "import matplotlib.pyplot as plt"
   ]
  },
  {
   "cell_type": "markdown",
   "id": "50ba714c",
   "metadata": {},
   "source": [
    "# Tidy Tuesday: Recipe\n",
    "**September 16, 2025**\n",
    "\n",
    "Goals for today:\n",
    "* Which authors are most successful: who is most prolific, who has the highest average ratings or popularity, and do top authors specialize by cuisine, ingredient, or recipe length?\n",
    "* Is there a relationship between prep/cook time and average rating?\n",
    "* Which recipe categories or cuisines tend to have the highest average ratings and review counts?\n",
    "* Which recipes are the most \"actionable\" — high rating with low total time?"
   ]
  },
  {
   "cell_type": "markdown",
   "id": "01d7a892",
   "metadata": {},
   "source": [
    "## Data Preparation"
   ]
  },
  {
   "cell_type": "code",
   "execution_count": 175,
   "id": "f60c1f76",
   "metadata": {},
   "outputs": [],
   "source": [
    "# Load in datasets\n",
    "all_recipes = pd.read_csv('https://raw.githubusercontent.com/rfordatascience/tidytuesday/main/data/2025/2025-09-16/all_recipes.csv')\n",
    "cuisines = pd.read_csv('https://raw.githubusercontent.com/rfordatascience/tidytuesday/main/data/2025/2025-09-16/cuisines.csv')"
   ]
  },
  {
   "cell_type": "code",
   "execution_count": 176,
   "id": "5832089a",
   "metadata": {},
   "outputs": [],
   "source": [
    "# Comment out to view data\n",
    "#all_recipes\n",
    "#cuisines"
   ]
  },
  {
   "cell_type": "markdown",
   "id": "89207095",
   "metadata": {},
   "source": [
    "For simplicity, I will combine the 2 datasets together."
   ]
  },
  {
   "cell_type": "code",
   "execution_count": 177,
   "id": "b971f8eb",
   "metadata": {},
   "outputs": [],
   "source": [
    "cuisines2 = cuisines # Create a copy of the original cuisines\n",
    "cuisines2 = cuisines2.drop(['country', 'url'], axis =1) # Remove unneeded cols\n",
    "\n",
    "all_recipes2 = all_recipes.drop(['url'], axis=1) # Create a copy and remove unneeded col"
   ]
  },
  {
   "cell_type": "markdown",
   "id": "406fcb69",
   "metadata": {},
   "source": [
    "Append / concatenate the two dataframes."
   ]
  },
  {
   "cell_type": "code",
   "execution_count": 178,
   "id": "aeb8d051",
   "metadata": {},
   "outputs": [
    {
     "data": {
      "text/plain": [
       "(15593, 15)"
      ]
     },
     "execution_count": 178,
     "metadata": {},
     "output_type": "execute_result"
    }
   ],
   "source": [
    "complete = pd.concat([all_recipes2, cuisines2]) # Concatenate\n",
    "complete = complete.drop_duplicates() # Drop the 953 duplicates\n",
    "complete.shape"
   ]
  },
  {
   "cell_type": "markdown",
   "id": "4e608bab",
   "metadata": {},
   "source": [
    "We get **15,593 total recipes** in the `complete` dataset."
   ]
  },
  {
   "cell_type": "markdown",
   "id": "eda096e7",
   "metadata": {},
   "source": [
    "## Data Analysis\n",
    "Answering the questions."
   ]
  },
  {
   "cell_type": "markdown",
   "id": "0a0601fc",
   "metadata": {},
   "source": [
    "### Authors"
   ]
  },
  {
   "cell_type": "code",
   "execution_count": 179,
   "id": "bbbb1fd5",
   "metadata": {},
   "outputs": [
    {
     "data": {
      "text/plain": [
       "count              15593\n",
       "unique              8982\n",
       "top       John Mitzewich\n",
       "freq                 716\n",
       "Name: author, dtype: object"
      ]
     },
     "execution_count": 179,
     "metadata": {},
     "output_type": "execute_result"
    }
   ],
   "source": [
    "complete.author.describe()"
   ]
  },
  {
   "cell_type": "code",
   "execution_count": 180,
   "id": "331b248c",
   "metadata": {},
   "outputs": [
    {
     "data": {
      "text/plain": [
       "author\n",
       "John Mitzewich       716\n",
       "Nicole McLaughlin    274\n",
       "TheDailyGourmet      149\n",
       "Allrecipes Member    147\n",
       "Kim                  138\n",
       "                    ... \n",
       "Diana Penning          1\n",
       "iheartcooking          1\n",
       "Teri Lynn              1\n",
       "KSU_brett              1\n",
       "NIKKIJM                1\n",
       "Name: count, Length: 8982, dtype: int64"
      ]
     },
     "execution_count": 180,
     "metadata": {},
     "output_type": "execute_result"
    }
   ],
   "source": [
    "complete.author.value_counts()"
   ]
  },
  {
   "cell_type": "markdown",
   "id": "f8a91a10",
   "metadata": {},
   "source": [
    "John Mitzewich has the most recipes by far.\\\n",
    "There are 8,981 other authors listed. For evaluating the ratings and popularities of authors, I will ignore the authos that have posted less than 10 reviews."
   ]
  },
  {
   "cell_type": "code",
   "execution_count": 193,
   "id": "61aed9bc",
   "metadata": {},
   "outputs": [
    {
     "name": "stdout",
     "output_type": "stream",
     "text": [
      "There are  8890 authors who have posted less than 10 recipes\n",
      "92 authors have posted 10 or more recipes.\n"
     ]
    }
   ],
   "source": [
    "print('There are ', sum(complete.author.value_counts() < 10), 'authors who have posted less than 10 recipes')\n",
    "print(sum(complete.author.value_counts()>= 10), 'authors have posted 10 or more recipes.')"
   ]
  },
  {
   "cell_type": "code",
   "execution_count": 218,
   "id": "21ffc39e",
   "metadata": {},
   "outputs": [
    {
     "data": {
      "text/html": [
       "<div>\n",
       "<style scoped>\n",
       "    .dataframe tbody tr th:only-of-type {\n",
       "        vertical-align: middle;\n",
       "    }\n",
       "\n",
       "    .dataframe tbody tr th {\n",
       "        vertical-align: top;\n",
       "    }\n",
       "\n",
       "    .dataframe thead th {\n",
       "        text-align: right;\n",
       "    }\n",
       "</style>\n",
       "<table border=\"1\" class=\"dataframe\">\n",
       "  <thead>\n",
       "    <tr style=\"text-align: right;\">\n",
       "      <th></th>\n",
       "      <th>author</th>\n",
       "      <th>recipe count</th>\n",
       "    </tr>\n",
       "  </thead>\n",
       "  <tbody>\n",
       "    <tr>\n",
       "      <th>0</th>\n",
       "      <td>Lisawas</td>\n",
       "      <td>9</td>\n",
       "    </tr>\n",
       "    <tr>\n",
       "      <th>1</th>\n",
       "      <td>Brenda</td>\n",
       "      <td>9</td>\n",
       "    </tr>\n",
       "    <tr>\n",
       "      <th>2</th>\n",
       "      <td>Amanda</td>\n",
       "      <td>9</td>\n",
       "    </tr>\n",
       "    <tr>\n",
       "      <th>3</th>\n",
       "      <td>Kevin Ryan</td>\n",
       "      <td>9</td>\n",
       "    </tr>\n",
       "    <tr>\n",
       "      <th>4</th>\n",
       "      <td>Jessica</td>\n",
       "      <td>9</td>\n",
       "    </tr>\n",
       "    <tr>\n",
       "      <th>...</th>\n",
       "      <td>...</td>\n",
       "      <td>...</td>\n",
       "    </tr>\n",
       "    <tr>\n",
       "      <th>8885</th>\n",
       "      <td>Diana Penning</td>\n",
       "      <td>1</td>\n",
       "    </tr>\n",
       "    <tr>\n",
       "      <th>8886</th>\n",
       "      <td>iheartcooking</td>\n",
       "      <td>1</td>\n",
       "    </tr>\n",
       "    <tr>\n",
       "      <th>8887</th>\n",
       "      <td>Teri Lynn</td>\n",
       "      <td>1</td>\n",
       "    </tr>\n",
       "    <tr>\n",
       "      <th>8888</th>\n",
       "      <td>KSU_brett</td>\n",
       "      <td>1</td>\n",
       "    </tr>\n",
       "    <tr>\n",
       "      <th>8889</th>\n",
       "      <td>NIKKIJM</td>\n",
       "      <td>1</td>\n",
       "    </tr>\n",
       "  </tbody>\n",
       "</table>\n",
       "<p>8890 rows × 2 columns</p>\n",
       "</div>"
      ],
      "text/plain": [
       "             author  recipe count\n",
       "0           Lisawas             9\n",
       "1            Brenda             9\n",
       "2            Amanda             9\n",
       "3        Kevin Ryan             9\n",
       "4           Jessica             9\n",
       "...             ...           ...\n",
       "8885  Diana Penning             1\n",
       "8886  iheartcooking             1\n",
       "8887      Teri Lynn             1\n",
       "8888      KSU_brett             1\n",
       "8889        NIKKIJM             1\n",
       "\n",
       "[8890 rows x 2 columns]"
      ]
     },
     "execution_count": 218,
     "metadata": {},
     "output_type": "execute_result"
    }
   ],
   "source": [
    "names = complete.author.value_counts().rename_axis('author').reset_index(name='recipe count') # Convert value_counts to dataframe\n",
    "less10 = names[names['recipe count']<10].reset_index().drop('index', axis=1) # Mask to just the authors with less than 10\n",
    "less10"
   ]
  },
  {
   "cell_type": "code",
   "execution_count": 219,
   "id": "ec37a612",
   "metadata": {},
   "outputs": [
    {
     "data": {
      "text/plain": [
       "author          Brenda\n",
       "recipe count         9\n",
       "Name: 1, dtype: object"
      ]
     },
     "execution_count": 219,
     "metadata": {},
     "output_type": "execute_result"
    }
   ],
   "source": [
    "less10.loc[1]"
   ]
  },
  {
   "cell_type": "code",
   "execution_count": null,
   "id": "6d1d2c72",
   "metadata": {},
   "outputs": [],
   "source": []
  },
  {
   "cell_type": "code",
   "execution_count": null,
   "id": "29fd7573",
   "metadata": {},
   "outputs": [],
   "source": []
  },
  {
   "cell_type": "code",
   "execution_count": null,
   "id": "f7e7242d",
   "metadata": {},
   "outputs": [],
   "source": []
  },
  {
   "cell_type": "code",
   "execution_count": null,
   "id": "14a8868e",
   "metadata": {},
   "outputs": [],
   "source": []
  },
  {
   "cell_type": "code",
   "execution_count": null,
   "id": "3107604d",
   "metadata": {},
   "outputs": [],
   "source": []
  }
 ],
 "metadata": {
  "kernelspec": {
   "display_name": "Python 3 (ipykernel)",
   "language": "python",
   "name": "python3"
  },
  "language_info": {
   "codemirror_mode": {
    "name": "ipython",
    "version": 3
   },
   "file_extension": ".py",
   "mimetype": "text/x-python",
   "name": "python",
   "nbconvert_exporter": "python",
   "pygments_lexer": "ipython3",
   "version": "3.8.18"
  }
 },
 "nbformat": 4,
 "nbformat_minor": 5
}
